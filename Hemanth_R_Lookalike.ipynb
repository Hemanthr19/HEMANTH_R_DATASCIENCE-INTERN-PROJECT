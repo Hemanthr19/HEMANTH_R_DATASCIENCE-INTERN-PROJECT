{
 "cells": [
  {
   "cell_type": "code",
   "execution_count": 1,
   "id": "e194d838-1f48-4be9-8e60-d83a29e1de8b",
   "metadata": {},
   "outputs": [],
   "source": [
    "#model\n",
    "import pandas as pd\n",
    "import numpy as np\n",
    "from sklearn.preprocessing import StandardScaler\n",
    "from sklearn.metrics.pairwise import cosine_similarity\n",
    "\n",
    "#LD THE ds\n",
    "customer = pd.read_csv(\"Customers.csv\")\n",
    "product = pd.read_csv(\"Products.csv\")\n",
    "transaction = pd.read_csv(\"Transactions.csv\")\n"
   ]
  },
  {
   "cell_type": "code",
   "execution_count": 2,
   "id": "37fe88a4-f496-40d2-896e-0391fa94fb51",
   "metadata": {},
   "outputs": [],
   "source": [
    "#data prep\n",
    "data = transaction.merge(customer, on=\"CustomerID\").merge(product, on=\"ProductID\")\n",
    "customer_spending = data.groupby(\"CustomerID\")[\"TotalValue\"].sum().reset_index()\n",
    "customer_product_pivot = data.pivot_table(index=\"CustomerID\", columns=\"Category\", values=\"TotalValue\", aggfunc=\"sum\", fill_value=0)\n",
    "\n",
    "customer_profile = customer.merge(customer_spending, on=\"CustomerID\", how=\"left\").fillna(0)\n",
    "customer_profile = customer_profile.merge(customer_product_pivot, on=\"CustomerID\", how=\"left\").fillna(0)\n",
    "customer_profile = customer_profile.fillna(0)\n",
    "customer_profile = pd.get_dummies(customer_profile, columns=[\"Region\"], drop_first=True)\n",
    "\n",
    "\n",
    "numeric_cols = customer_profile.select_dtypes(include=[np.number]).columns\n",
    "customer_features = StandardScaler().fit_transform(customer_profile[numeric_cols])\n"
   ]
  },
  {
   "cell_type": "code",
   "execution_count": 3,
   "id": "cf6ab5b4-858a-4f18-84f8-aa57d638c8fc",
   "metadata": {},
   "outputs": [],
   "source": [
    "similarity_matrix = cosine_similarity(customer_features)\n",
    "similarity_df = pd.DataFrame(similarity_matrix, index=customer_profile[\"CustomerID\"], columns=customer_profile[\"CustomerID\"])\n",
    "def get_top_3_similar(customers_list):\n",
    "    lookalike_map = {}\n",
    "\n",
    "    for cust_id in customers_list:\n",
    "        similar_customers = similarity_df[cust_id].drop(index=cust_id).nlargest(3)\n",
    "        lookalike_map[cust_id] = list(similar_customers.items())\n",
    "\n",
    "    return lookalike_map\n",
    "\n",
    "top_20_customers = customer[\"CustomerID\"].iloc[:20].tolist()\n",
    "lookalike_results = get_top_3_similar(top_20_customers)\n",
    "lookalike_df = pd.DataFrame([\n",
    "    {\"CustomerID\": cust, \"Lookalikes\": str(lookalike_results[cust])}\n",
    "    for cust in lookalike_results\n",
    "])\n"
   ]
  },
  {
   "cell_type": "code",
   "execution_count": 21,
   "id": "4ff4e280-ff35-43ca-a7dc-aac36d9639c6",
   "metadata": {},
   "outputs": [],
   "source": [
    "lookalike_df.to_csv(\"Lookalike.csv\", index=False)\n"
   ]
  },
  {
   "cell_type": "code",
   "execution_count": null,
   "id": "13a6ce01-8e36-46c6-896e-c3bce697d697",
   "metadata": {},
   "outputs": [],
   "source": []
  }
 ],
 "metadata": {
  "kernelspec": {
   "display_name": "Python 3 (ipykernel)",
   "language": "python",
   "name": "python3"
  },
  "language_info": {
   "codemirror_mode": {
    "name": "ipython",
    "version": 3
   },
   "file_extension": ".py",
   "mimetype": "text/x-python",
   "name": "python",
   "nbconvert_exporter": "python",
   "pygments_lexer": "ipython3",
   "version": "3.12.4"
  }
 },
 "nbformat": 4,
 "nbformat_minor": 5
}
